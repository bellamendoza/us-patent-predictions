{
 "cells": [
  {
   "cell_type": "markdown",
   "metadata": {},
   "source": [
    "# 01 Data Processing\n",
    "## Do Federally Funded Patents Get Cited More?\n"
   ]
  },
  {
   "cell_type": "markdown",
   "metadata": {},
   "source": [
    "#### TODO:\n",
    "- deal w/ null values\n",
    "- change filing date to age or yr\n",
    "- decide if need to subset the 9m row final dataset\n",
    "- get rid of cols not needed (cpc_type)\n",
    "- filter for date 2022-present"
   ]
  },
  {
   "cell_type": "markdown",
   "metadata": {},
   "source": [
    "### Import Packages"
   ]
  },
  {
   "cell_type": "code",
   "execution_count": 46,
   "metadata": {},
   "outputs": [],
   "source": [
    "import pandas as pd\n",
    "import numpy as np\n",
    "import seaborn as sns\n",
    "import matplotlib.pyplot as plt\n",
    "import plotly_express as px"
   ]
  },
  {
   "cell_type": "markdown",
   "metadata": {},
   "source": [
    "### Import data"
   ]
  },
  {
   "cell_type": "code",
   "execution_count": 2,
   "metadata": {},
   "outputs": [
    {
     "name": "stderr",
     "output_type": "stream",
     "text": [
      "/var/folders/3m/chgnvz6n0lvb48zy37bx_p6c0000gn/T/ipykernel_56202/723068102.py:2: DtypeWarning: Columns (0,2,4) have mixed types. Specify dtype option on import or set low_memory=False.\n",
      "  patents = pd.read_csv('../data/g_application.tsv', sep='\\t')\n",
      "/var/folders/3m/chgnvz6n0lvb48zy37bx_p6c0000gn/T/ipykernel_56202/723068102.py:8: DtypeWarning: Columns (0,5,6) have mixed types. Specify dtype option on import or set low_memory=False.\n",
      "  citations = pd.read_csv('../data/g_us_patent_citation.tsv', sep='\\t')\n"
     ]
    }
   ],
   "source": [
    "# all patents\n",
    "patents = pd.read_csv('../data/g_application.tsv', sep='\\t')\n",
    "\n",
    "# government patents\n",
    "gov_patents = pd.read_csv('../data/g_gov_interest_org.tsv', sep='\\t')\n",
    "\n",
    "# citations to patents by patents, giant file\n",
    "citations = pd.read_csv('../data/g_us_patent_citation.tsv', sep='\\t')\n",
    "\n",
    "# CPC topic data\n",
    "cpc_current = pd.read_csv('../data/g_cpc_current.tsv', sep='\\t')\n",
    "cpc_titles = pd.read_csv('../data/g_cpc_title.tsv', sep='\\t')"
   ]
  },
  {
   "cell_type": "markdown",
   "metadata": {},
   "source": [
    "### Prep Data"
   ]
  },
  {
   "cell_type": "code",
   "execution_count": 3,
   "metadata": {},
   "outputs": [],
   "source": [
    "citation_counts = citations.pivot_table(\n",
    "    index='patent_id',\n",
    "    columns='citation_category',\n",
    "    aggfunc='size',\n",
    "    fill_value=0\n",
    ").reset_index()\n",
    "\n",
    "citation_counts.columns.name = None\n",
    "citation_counts.rename(columns={\n",
    "    'cited by examiner': 'count_by_examiner',\n",
    "    'cited by applicant': 'count_by_applicant',\n",
    "    'cited by other': 'count_by_other',\n",
    "    'cited by third party' : 'count_by_third_party',\n",
    "    'imported from a related application':'imported_from_related_application'\n",
    "\n",
    "}, inplace=True)\n",
    "\n",
    "# Add a total count column\n",
    "citation_counts['count'] = citation_counts['count_by_examiner'] + citation_counts['count_by_applicant']\n",
    "\n"
   ]
  },
  {
   "cell_type": "markdown",
   "metadata": {},
   "source": [
    "We want to get topics of these patents"
   ]
  },
  {
   "cell_type": "code",
   "execution_count": 4,
   "metadata": {},
   "outputs": [],
   "source": [
    "# only for inventional because we want tags related directly to invention only\n",
    "primary_cpc = cpc_current[cpc_current['cpc_type']=='inventional'].groupby('patent_id', as_index=False).first()\n",
    "cpc_classes  = cpc_titles.iloc[:, -2:].drop_duplicates()\n",
    "primary_cpc_with_title = primary_cpc.merge(cpc_classes[['cpc_class', 'cpc_class_title']], \n",
    "                                           on='cpc_class', \n",
    "                                           how='left')\n",
    "primary_cpc_with_title['patent_id'] = primary_cpc_with_title['patent_id'].astype(str)"
   ]
  },
  {
   "cell_type": "code",
   "execution_count": 5,
   "metadata": {},
   "outputs": [
    {
     "data": {
      "text/html": [
       "<div>\n",
       "<style scoped>\n",
       "    .dataframe tbody tr th:only-of-type {\n",
       "        vertical-align: middle;\n",
       "    }\n",
       "\n",
       "    .dataframe tbody tr th {\n",
       "        vertical-align: top;\n",
       "    }\n",
       "\n",
       "    .dataframe thead th {\n",
       "        text-align: right;\n",
       "    }\n",
       "</style>\n",
       "<table border=\"1\" class=\"dataframe\">\n",
       "  <thead>\n",
       "    <tr style=\"text-align: right;\">\n",
       "      <th></th>\n",
       "      <th>patent_id</th>\n",
       "      <th>cpc_sequence</th>\n",
       "      <th>cpc_section</th>\n",
       "      <th>cpc_class</th>\n",
       "      <th>cpc_subclass</th>\n",
       "      <th>cpc_group</th>\n",
       "      <th>cpc_type</th>\n",
       "      <th>cpc_class_title</th>\n",
       "    </tr>\n",
       "  </thead>\n",
       "  <tbody>\n",
       "    <tr>\n",
       "      <th>0</th>\n",
       "      <td>3930271</td>\n",
       "      <td>0</td>\n",
       "      <td>A</td>\n",
       "      <td>A63</td>\n",
       "      <td>A63B</td>\n",
       "      <td>A63B71/146</td>\n",
       "      <td>inventional</td>\n",
       "      <td>SPORTS; GAMES; AMUSEMENTS</td>\n",
       "    </tr>\n",
       "    <tr>\n",
       "      <th>1</th>\n",
       "      <td>3930272</td>\n",
       "      <td>0</td>\n",
       "      <td>A</td>\n",
       "      <td>A47</td>\n",
       "      <td>A47D</td>\n",
       "      <td>A47D7/02</td>\n",
       "      <td>inventional</td>\n",
       "      <td>FURNITURE; DOMESTIC ARTICLES OR APPLIANCES; CO...</td>\n",
       "    </tr>\n",
       "    <tr>\n",
       "      <th>2</th>\n",
       "      <td>3930273</td>\n",
       "      <td>0</td>\n",
       "      <td>A</td>\n",
       "      <td>A61</td>\n",
       "      <td>A61G</td>\n",
       "      <td>A61G7/0507</td>\n",
       "      <td>inventional</td>\n",
       "      <td>MEDICAL OR VETERINARY SCIENCE; HYGIENE</td>\n",
       "    </tr>\n",
       "    <tr>\n",
       "      <th>3</th>\n",
       "      <td>3930274</td>\n",
       "      <td>0</td>\n",
       "      <td>B</td>\n",
       "      <td>B63</td>\n",
       "      <td>B63B</td>\n",
       "      <td>B63B7/085</td>\n",
       "      <td>inventional</td>\n",
       "      <td>SHIPS OR OTHER WATERBORNE VESSELS; RELATED EQU...</td>\n",
       "    </tr>\n",
       "    <tr>\n",
       "      <th>4</th>\n",
       "      <td>3930275</td>\n",
       "      <td>0</td>\n",
       "      <td>A</td>\n",
       "      <td>A43</td>\n",
       "      <td>A43D</td>\n",
       "      <td>A43D8/08</td>\n",
       "      <td>inventional</td>\n",
       "      <td>FOOTWEAR</td>\n",
       "    </tr>\n",
       "    <tr>\n",
       "      <th>...</th>\n",
       "      <td>...</td>\n",
       "      <td>...</td>\n",
       "      <td>...</td>\n",
       "      <td>...</td>\n",
       "      <td>...</td>\n",
       "      <td>...</td>\n",
       "      <td>...</td>\n",
       "      <td>...</td>\n",
       "    </tr>\n",
       "    <tr>\n",
       "      <th>8158901</th>\n",
       "      <td>12156484</td>\n",
       "      <td>0</td>\n",
       "      <td>H</td>\n",
       "      <td>H10</td>\n",
       "      <td>H10N</td>\n",
       "      <td>H10N69/00</td>\n",
       "      <td>inventional</td>\n",
       "      <td>SEMICONDUCTOR DEVICES; ELECTRIC SOLID-STATE DE...</td>\n",
       "    </tr>\n",
       "    <tr>\n",
       "      <th>8158902</th>\n",
       "      <td>12156485</td>\n",
       "      <td>0</td>\n",
       "      <td>H</td>\n",
       "      <td>H10</td>\n",
       "      <td>H10N</td>\n",
       "      <td>H10N70/231</td>\n",
       "      <td>inventional</td>\n",
       "      <td>SEMICONDUCTOR DEVICES; ELECTRIC SOLID-STATE DE...</td>\n",
       "    </tr>\n",
       "    <tr>\n",
       "      <th>8158903</th>\n",
       "      <td>12156486</td>\n",
       "      <td>0</td>\n",
       "      <td>H</td>\n",
       "      <td>H10</td>\n",
       "      <td>H10B</td>\n",
       "      <td>H10B63/80</td>\n",
       "      <td>inventional</td>\n",
       "      <td>SEMICONDUCTOR DEVICES; ELECTRIC SOLID-STATE DE...</td>\n",
       "    </tr>\n",
       "    <tr>\n",
       "      <th>8158904</th>\n",
       "      <td>12156487</td>\n",
       "      <td>0</td>\n",
       "      <td>H</td>\n",
       "      <td>H10</td>\n",
       "      <td>H10N</td>\n",
       "      <td>H10N70/20</td>\n",
       "      <td>inventional</td>\n",
       "      <td>SEMICONDUCTOR DEVICES; ELECTRIC SOLID-STATE DE...</td>\n",
       "    </tr>\n",
       "    <tr>\n",
       "      <th>8158905</th>\n",
       "      <td>12156488</td>\n",
       "      <td>0</td>\n",
       "      <td>H</td>\n",
       "      <td>H10</td>\n",
       "      <td>H10N</td>\n",
       "      <td>H10N70/8613</td>\n",
       "      <td>inventional</td>\n",
       "      <td>SEMICONDUCTOR DEVICES; ELECTRIC SOLID-STATE DE...</td>\n",
       "    </tr>\n",
       "  </tbody>\n",
       "</table>\n",
       "<p>8158906 rows × 8 columns</p>\n",
       "</div>"
      ],
      "text/plain": [
       "        patent_id  cpc_sequence cpc_section cpc_class cpc_subclass  \\\n",
       "0         3930271             0           A       A63         A63B   \n",
       "1         3930272             0           A       A47         A47D   \n",
       "2         3930273             0           A       A61         A61G   \n",
       "3         3930274             0           B       B63         B63B   \n",
       "4         3930275             0           A       A43         A43D   \n",
       "...           ...           ...         ...       ...          ...   \n",
       "8158901  12156484             0           H       H10         H10N   \n",
       "8158902  12156485             0           H       H10         H10N   \n",
       "8158903  12156486             0           H       H10         H10B   \n",
       "8158904  12156487             0           H       H10         H10N   \n",
       "8158905  12156488             0           H       H10         H10N   \n",
       "\n",
       "           cpc_group     cpc_type  \\\n",
       "0         A63B71/146  inventional   \n",
       "1           A47D7/02  inventional   \n",
       "2         A61G7/0507  inventional   \n",
       "3          B63B7/085  inventional   \n",
       "4           A43D8/08  inventional   \n",
       "...              ...          ...   \n",
       "8158901    H10N69/00  inventional   \n",
       "8158902   H10N70/231  inventional   \n",
       "8158903    H10B63/80  inventional   \n",
       "8158904    H10N70/20  inventional   \n",
       "8158905  H10N70/8613  inventional   \n",
       "\n",
       "                                           cpc_class_title  \n",
       "0                                SPORTS; GAMES; AMUSEMENTS  \n",
       "1        FURNITURE; DOMESTIC ARTICLES OR APPLIANCES; CO...  \n",
       "2                   MEDICAL OR VETERINARY SCIENCE; HYGIENE  \n",
       "3        SHIPS OR OTHER WATERBORNE VESSELS; RELATED EQU...  \n",
       "4                                                 FOOTWEAR  \n",
       "...                                                    ...  \n",
       "8158901  SEMICONDUCTOR DEVICES; ELECTRIC SOLID-STATE DE...  \n",
       "8158902  SEMICONDUCTOR DEVICES; ELECTRIC SOLID-STATE DE...  \n",
       "8158903  SEMICONDUCTOR DEVICES; ELECTRIC SOLID-STATE DE...  \n",
       "8158904  SEMICONDUCTOR DEVICES; ELECTRIC SOLID-STATE DE...  \n",
       "8158905  SEMICONDUCTOR DEVICES; ELECTRIC SOLID-STATE DE...  \n",
       "\n",
       "[8158906 rows x 8 columns]"
      ]
     },
     "execution_count": 5,
     "metadata": {},
     "output_type": "execute_result"
    }
   ],
   "source": [
    "primary_cpc_with_title"
   ]
  },
  {
   "cell_type": "markdown",
   "metadata": {},
   "source": [
    "### Combine datasets"
   ]
  },
  {
   "cell_type": "markdown",
   "metadata": {},
   "source": [
    "Now we have the government interest patents, all the patents, the patent CPCs, and the citation counts. We need to combine the data now."
   ]
  },
  {
   "cell_type": "code",
   "execution_count": 6,
   "metadata": {},
   "outputs": [
    {
     "data": {
      "text/html": [
       "<div>\n",
       "<style scoped>\n",
       "    .dataframe tbody tr th:only-of-type {\n",
       "        vertical-align: middle;\n",
       "    }\n",
       "\n",
       "    .dataframe tbody tr th {\n",
       "        vertical-align: top;\n",
       "    }\n",
       "\n",
       "    .dataframe thead th {\n",
       "        text-align: right;\n",
       "    }\n",
       "</style>\n",
       "<table border=\"1\" class=\"dataframe\">\n",
       "  <thead>\n",
       "    <tr style=\"text-align: right;\">\n",
       "      <th></th>\n",
       "      <th>patent_id</th>\n",
       "      <th>fedagency_name</th>\n",
       "      <th>level_one</th>\n",
       "      <th>level_two</th>\n",
       "      <th>level_three</th>\n",
       "      <th>fed_funded</th>\n",
       "      <th>cpc_section</th>\n",
       "      <th>cpc_class</th>\n",
       "      <th>cpc_subclass</th>\n",
       "      <th>cpc_group</th>\n",
       "      <th>cpc_class_title</th>\n",
       "      <th>citations_by_applicant</th>\n",
       "      <th>citations_by_examiner</th>\n",
       "      <th>total_citations</th>\n",
       "      <th>filing_year</th>\n",
       "    </tr>\n",
       "  </thead>\n",
       "  <tbody>\n",
       "    <tr>\n",
       "      <th>3128606</th>\n",
       "      <td>6670400</td>\n",
       "      <td>NaN</td>\n",
       "      <td>NaN</td>\n",
       "      <td>NaN</td>\n",
       "      <td>NaN</td>\n",
       "      <td>0</td>\n",
       "      <td>C</td>\n",
       "      <td>C07</td>\n",
       "      <td>C07D</td>\n",
       "      <td>C07D213/81</td>\n",
       "      <td>ORGANIC CHEMISTRY</td>\n",
       "      <td>0.0</td>\n",
       "      <td>0.0</td>\n",
       "      <td>0.0</td>\n",
       "      <td>2002</td>\n",
       "    </tr>\n",
       "    <tr>\n",
       "      <th>3128607</th>\n",
       "      <td>6556675</td>\n",
       "      <td>NaN</td>\n",
       "      <td>NaN</td>\n",
       "      <td>NaN</td>\n",
       "      <td>NaN</td>\n",
       "      <td>0</td>\n",
       "      <td>H</td>\n",
       "      <td>H04</td>\n",
       "      <td>H04Q</td>\n",
       "      <td>H04Q1/028</td>\n",
       "      <td>ELECTRIC COMMUNICATION TECHNIQUE</td>\n",
       "      <td>0.0</td>\n",
       "      <td>0.0</td>\n",
       "      <td>0.0</td>\n",
       "      <td>2002</td>\n",
       "    </tr>\n",
       "    <tr>\n",
       "      <th>3128608</th>\n",
       "      <td>6511529</td>\n",
       "      <td>NaN</td>\n",
       "      <td>NaN</td>\n",
       "      <td>NaN</td>\n",
       "      <td>NaN</td>\n",
       "      <td>0</td>\n",
       "      <td>B</td>\n",
       "      <td>B01</td>\n",
       "      <td>B01D</td>\n",
       "      <td>B01D47/00</td>\n",
       "      <td>PHYSICAL OR CHEMICAL PROCESSES OR APPARATUS IN...</td>\n",
       "      <td>0.0</td>\n",
       "      <td>0.0</td>\n",
       "      <td>0.0</td>\n",
       "      <td>2002</td>\n",
       "    </tr>\n",
       "    <tr>\n",
       "      <th>3128609</th>\n",
       "      <td>6618956</td>\n",
       "      <td>NaN</td>\n",
       "      <td>NaN</td>\n",
       "      <td>NaN</td>\n",
       "      <td>NaN</td>\n",
       "      <td>0</td>\n",
       "      <td>B</td>\n",
       "      <td>B04</td>\n",
       "      <td>B04B</td>\n",
       "      <td>B04B1/20</td>\n",
       "      <td>CENTRIFUGAL APPARATUS OR MACHINES FOR CARRYING...</td>\n",
       "      <td>0.0</td>\n",
       "      <td>0.0</td>\n",
       "      <td>0.0</td>\n",
       "      <td>2002</td>\n",
       "    </tr>\n",
       "    <tr>\n",
       "      <th>3128610</th>\n",
       "      <td>6778704</td>\n",
       "      <td>NaN</td>\n",
       "      <td>NaN</td>\n",
       "      <td>NaN</td>\n",
       "      <td>NaN</td>\n",
       "      <td>0</td>\n",
       "      <td>G</td>\n",
       "      <td>G06</td>\n",
       "      <td>G06V</td>\n",
       "      <td>G06V30/242</td>\n",
       "      <td>COMPUTING; CALCULATING OR COUNTING</td>\n",
       "      <td>0.0</td>\n",
       "      <td>0.0</td>\n",
       "      <td>0.0</td>\n",
       "      <td>2002</td>\n",
       "    </tr>\n",
       "  </tbody>\n",
       "</table>\n",
       "</div>"
      ],
      "text/plain": [
       "        patent_id fedagency_name level_one level_two level_three  fed_funded  \\\n",
       "3128606   6670400            NaN       NaN       NaN         NaN           0   \n",
       "3128607   6556675            NaN       NaN       NaN         NaN           0   \n",
       "3128608   6511529            NaN       NaN       NaN         NaN           0   \n",
       "3128609   6618956            NaN       NaN       NaN         NaN           0   \n",
       "3128610   6778704            NaN       NaN       NaN         NaN           0   \n",
       "\n",
       "        cpc_section cpc_class cpc_subclass   cpc_group  \\\n",
       "3128606           C       C07         C07D  C07D213/81   \n",
       "3128607           H       H04         H04Q   H04Q1/028   \n",
       "3128608           B       B01         B01D   B01D47/00   \n",
       "3128609           B       B04         B04B    B04B1/20   \n",
       "3128610           G       G06         G06V  G06V30/242   \n",
       "\n",
       "                                           cpc_class_title  \\\n",
       "3128606                                  ORGANIC CHEMISTRY   \n",
       "3128607                   ELECTRIC COMMUNICATION TECHNIQUE   \n",
       "3128608  PHYSICAL OR CHEMICAL PROCESSES OR APPARATUS IN...   \n",
       "3128609  CENTRIFUGAL APPARATUS OR MACHINES FOR CARRYING...   \n",
       "3128610                 COMPUTING; CALCULATING OR COUNTING   \n",
       "\n",
       "         citations_by_applicant  citations_by_examiner  total_citations  \\\n",
       "3128606                     0.0                    0.0              0.0   \n",
       "3128607                     0.0                    0.0              0.0   \n",
       "3128608                     0.0                    0.0              0.0   \n",
       "3128609                     0.0                    0.0              0.0   \n",
       "3128610                     0.0                    0.0              0.0   \n",
       "\n",
       "         filing_year  \n",
       "3128606         2002  \n",
       "3128607         2002  \n",
       "3128608         2002  \n",
       "3128609         2002  \n",
       "3128610         2002  "
      ]
     },
     "execution_count": 6,
     "metadata": {},
     "output_type": "execute_result"
    }
   ],
   "source": [
    "# Combining the patents df and the gov_patents df\n",
    "all_patents_df = pd.merge(patents, gov_patents, on='patent_id', how='left')\n",
    "\n",
    "# Create the 'fed_funded' column based on the presence of a match in gov_patents\n",
    "all_patents_df['fed_funded'] = all_patents_df['fedagency_name'].notnull().astype(int)\n",
    "\n",
    "all_patents_df = all_patents_df[['patent_id', 'filing_date', 'fedagency_name', 'level_one', 'level_two', 'level_three', 'fed_funded']]\n",
    "\n",
    "\n",
    "# Adding in CPC codes and titles\n",
    "all_patents_df = pd.merge(all_patents_df, primary_cpc_with_title[['patent_id', 'cpc_section', 'cpc_class', 'cpc_subclass', 'cpc_group', 'cpc_type', 'cpc_class_title']], \n",
    "                              on='patent_id', how='left')\n",
    "\n",
    "\n",
    "# Adding in the citation counts\n",
    "citation_counts.rename(columns={\n",
    "    'count_by_applicant': 'citations_by_applicant',\n",
    "    'count_by_examiner': 'citations_by_examiner',\n",
    "    'cited_by_other': 'citations_by_other',\n",
    "    'cited_by_third_party': 'citations_by_third_party',\n",
    "    'imported_from_related_application': 'citations_imported_from_related_application',\n",
    "    'count': 'total_citations'\n",
    "}, inplace=True)\n",
    "\n",
    "all_patents_df = pd.merge(all_patents_df, citation_counts, on='patent_id', how='left')\n",
    "\n",
    "# ADDITIONAL CLEANING STEPS:\n",
    "\n",
    "# standarizing date --> year, filtering 2002-present\n",
    "all_patents_df['filing_year'] = all_patents_df['filing_date'].str[:4].astype(int)\n",
    "all_patents_df = all_patents_df[(all_patents_df['filing_year']>=2002)&(all_patents_df['filing_year']<=2025)]\n",
    "\n",
    "# dropping unnecessary columns\n",
    "all_patents_df = all_patents_df.drop(columns=['count_by_other', 'count_by_third_party', 'citations_imported_from_related_application', 'filing_date', 'cpc_type'])\n",
    "\n",
    "# fill appropriate columns' null vlaues with 0\n",
    "all_patents_df[['citations_by_examiner', 'citations_by_applicant', 'total_citations']] = all_patents_df[['citations_by_examiner', 'citations_by_applicant', 'total_citations']].fillna(0)\n",
    "\n",
    "# removing patents that are not utility patents by removing rows without a CPC section\n",
    "all_patents_df.dropna(subset=['cpc_section'], inplace=True)\n",
    "all_patents_df.head(5)\n"
   ]
  },
  {
   "cell_type": "code",
   "execution_count": 45,
   "metadata": {},
   "outputs": [],
   "source": [
    "all_patents_df.to_csv('../data/input.csv')"
   ]
  },
  {
   "cell_type": "markdown",
   "metadata": {},
   "source": [
    "## Visualizations"
   ]
  },
  {
   "cell_type": "code",
   "execution_count": null,
   "metadata": {},
   "outputs": [],
   "source": []
  },
  {
   "cell_type": "code",
   "execution_count": 37,
   "metadata": {},
   "outputs": [],
   "source": [
    "cpc_counts = all_patents_df['cpc_section'].value_counts()\n",
    "\n",
    "# Generalize the abbreviations to shorter descriptions\n",
    "cpc_mapping = {\n",
    "    'A': 'Human Necessities',\n",
    "    'B': 'Operations & Transport',\n",
    "    'C': 'Chemistry & Metallurgy',\n",
    "    'D': 'Textiles & Paper',\n",
    "    'E': 'Fixed Constructions',\n",
    "    'F': 'Mechanical Engineering & Lighting',\n",
    "    'G': 'Physics',\n",
    "    'H': 'Electricity',\n",
    "    'Y': 'New Tech Developments & XRACs'\n",
    "}\n",
    "cpc_counts_generalized = cpc_counts.rename(cpc_mapping)\n",
    "\n",
    "cpc_df = pd.DataFrame({\n",
    "    'CPC Section': cpc_counts_generalized.index,\n",
    "    'Count': cpc_counts_generalized.values\n",
    "})\n"
   ]
  },
  {
   "cell_type": "code",
   "execution_count": null,
   "metadata": {},
   "outputs": [],
   "source": []
  },
  {
   "cell_type": "code",
   "execution_count": 22,
   "metadata": {},
   "outputs": [
    {
     "data": {
      "image/png": "[encoded data removed]",
      "text/plain": [
       "<Figure size 1000x600 with 1 Axes>"
      ]
     },
     "metadata": {},
     "output_type": "display_data"
    }
   ],
   "source": [
    "import pandas as pd\n",
    "import matplotlib.pyplot as plt\n",
    "import seaborn as sns\n",
    "pd.options.plotting.backend = 'plotly'\n",
    "\n",
    "# Clean up the 'cpc_section' column: remove leading/trailing spaces\n",
    "all_patents_df['cpc_section'] = all_patents_df['cpc_section'].str.strip()\n",
    "\n",
    "# Ensure no missing values in 'cpc_section'\n",
    "all_patents_df = all_patents_df.dropna(subset=['cpc_section'])\n",
    "\n",
    "# Get value counts of 'cpc_section' (raw counts)\n",
    "cpc_counts = all_patents_df['cpc_section'].value_counts()\n",
    "\n",
    "# Generalize the abbreviations to shorter descriptions\n",
    "cpc_mapping = {\n",
    "    'A': 'Human Necessities',\n",
    "    'B': 'Operations & Transport',\n",
    "    'C': 'Chemistry & Metallurgy',\n",
    "    'D': 'Textiles & Paper',\n",
    "    'E': 'Fixed Constructions',\n",
    "    'F': 'Mech. Eng & Lighting',\n",
    "    'G': 'Physics',\n",
    "    'H': 'Electricity',\n",
    "    'Y': 'New Tech Developments'\n",
    "}\n",
    "\n",
    "cpc_counts = cpc_counts.rename(cpc_mapping)\n",
    "\n",
    "cpc_df = pd.DataFrame({'CPC Section': cpc_counts.index, 'Count': cpc_counts.values})\n",
    "\n",
    "cpc_df = cpc_df.sort_values(by='Count', ascending=False)\n",
    "\n",
    "sns.set_style(\"whitegrid\")\n",
    "\n",
    "plt.figure(figsize=(10, 6))\n",
    "ax = sns.barplot(data=cpc_df, x='CPC Section', y='Count', palette=\"viridis\")\n",
    "\n",
    "plt.xticks(rotation=45, ha='right', fontsize=12)\n",
    "plt.yticks(fontsize=12)\n",
    "plt.xlabel(\"CPC Section\", fontsize=14)\n",
    "plt.ylabel(\"Patent Count\", fontsize=14)\n",
    "plt.title(\"Patent Counts by CPC Section\", fontsize=16, fontweight=\"bold\")\n",
    "\n",
    "for i, v in enumerate(cpc_df['Count']):\n",
    "    ax.text(i, v + 50000, f\"{v:,}\", ha='center', fontsize=10, fontweight=\"bold\")\n",
    "\n",
    "plt.show()\n"
   ]
  },
  {
   "cell_type": "code",
   "execution_count": 47,
   "metadata": {},
   "outputs": [
    {
     "data": {
      "application/vnd.plotly.v1+json": {
       "config": {
        "plotlyServerURL": "https://plot.ly"
       },
       "data": [
        {
         "hovertemplate": "x=%{x}<br>y=%{y}<extra></extra>",
         "legendgroup": "",
         "marker": {
          "color": "#636efa",
          "pattern": {
           "shape": ""
          }
         },
         "name": "",
         "orientation": "v",
         "showlegend": false,
         "textposition": "auto",
         "type": "bar",
         "x": [
          "Physics",
          "Electricity",
          "Human Necessities",
          "Operations & Transport",
          "Chemistry & Metallurgy",
          "Mech. Eng & Lighting",
          "Fixed Constructions",
          "Textiles & Paper"
         ],
         "xaxis": "x",
         "y": {
          "bdata": "GeQXADMcFwA8WwoAZcYJAKiPBgD6TAUAsNsBAGZrAAA=",
          "dtype": "i4"
         },
         "yaxis": "y"
        }
       ],
       "layout": {
        "barmode": "relative",
        "legend": {
         "tracegroupgap": 0
        },
        "margin": {
         "t": 60
        },
        "template": {
         "data": {
          "bar": [
           {
            "error_x": {
             "color": "#2a3f5f"
            },
            "error_y": {
             "color": "#2a3f5f"
            },
            "marker": {
             "line": {
              "color": "#E5ECF6",
              "width": 0.5
             },
             "pattern": {
              "fillmode": "overlay",
              "size": 10,
              "solidity": 0.2
             }
            },
            "type": "bar"
           }
          ],
          "barpolar": [
           {
            "marker": {
             "line": {
              "color": "#E5ECF6",
              "width": 0.5
             },
             "pattern": {
              "fillmode": "overlay",
              "size": 10,
              "solidity": 0.2
             }
            },
            "type": "barpolar"
           }
          ],
          "carpet": [
           {
            "aaxis": {
             "endlinecolor": "#2a3f5f",
             "gridcolor": "white",
             "linecolor": "white",
             "minorgridcolor": "white",
             "startlinecolor": "#2a3f5f"
            },
            "baxis": {
             "endlinecolor": "#2a3f5f",
             "gridcolor": "white",
             "linecolor": "white",
             "minorgridcolor": "white",
             "startlinecolor": "#2a3f5f"
            },
            "type": "carpet"
           }
          ],
          "choropleth": [
           {
            "colorbar": {
             "outlinewidth": 0,
             "ticks": ""
            },
            "type": "choropleth"
           }
          ],
          "contour": [
           {
            "colorbar": {
             "outlinewidth": 0,
             "ticks": ""
            },
            "colorscale": [
             [
              0,
              "#0d0887"
             ],
             [
              0.1111111111111111,
              "#46039f"
             ],
             [
              0.2222222222222222,
              "#7201a8"
             ],
             [
              0.3333333333333333,
              "#9c179e"
             ],
             [
              0.4444444444444444,
              "#bd3786"
             ],
             [
              0.5555555555555556,
              "#d8576b"
             ],
             [
              0.6666666666666666,
              "#ed7953"
             ],
             [
              0.7777777777777778,
              "#fb9f3a"
             ],
             [
              0.8888888888888888,
              "#fdca26"
             ],
             [
              1,
              "#f0f921"
             ]
            ],
            "type": "contour"
           }
          ],
          "contourcarpet": [
           {
            "colorbar": {
             "outlinewidth": 0,
             "ticks": ""
            },
            "type": "contourcarpet"
           }
          ],
          "heatmap": [
           {
            "colorbar": {
             "outlinewidth": 0,
             "ticks": ""
            },
            "colorscale": [
             [
              0,
              "#0d0887"
             ],
             [
              0.1111111111111111,
              "#46039f"
             ],
             [
              0.2222222222222222,
              "#7201a8"
             ],
             [
              0.3333333333333333,
              "#9c179e"
             ],
             [
              0.4444444444444444,
              "#bd3786"
             ],
             [
              0.5555555555555556,
              "#d8576b"
             ],
             [
              0.6666666666666666,
              "#ed7953"
             ],
             [
              0.7777777777777778,
              "#fb9f3a"
             ],
             [
              0.8888888888888888,
              "#fdca26"
             ],
             [
              1,
              "#f0f921"
             ]
            ],
            "type": "heatmap"
           }
          ],
          "histogram": [
           {
            "marker": {
             "pattern": {
              "fillmode": "overlay",
              "size": 10,
              "solidity": 0.2
             }
            },
            "type": "histogram"
           }
          ],
          "histogram2d": [
           {
            "colorbar": {
             "outlinewidth": 0,
             "ticks": ""
            },
            "colorscale": [
             [
              0,
              "#0d0887"
             ],
             [
              0.1111111111111111,
              "#46039f"
             ],
             [
              0.2222222222222222,
              "#7201a8"
             ],
             [
              0.3333333333333333,
              "#9c179e"
             ],
             [
              0.4444444444444444,
              "#bd3786"
             ],
             [
              0.5555555555555556,
              "#d8576b"
             ],
             [
              0.6666666666666666,
              "#ed7953"
             ],
             [
              0.7777777777777778,
              "#fb9f3a"
             ],
             [
              0.8888888888888888,
              "#fdca26"
             ],
             [
              1,
              "#f0f921"
             ]
            ],
            "type": "histogram2d"
           }
          ],
          "histogram2dcontour": [
           {
            "colorbar": {
             "outlinewidth": 0,
             "ticks": ""
            },
            "colorscale": [
             [
              0,
              "#0d0887"
             ],
             [
              0.1111111111111111,
              "#46039f"
             ],
             [
              0.2222222222222222,
              "#7201a8"
             ],
             [
              0.3333333333333333,
              "#9c179e"
             ],
             [
              0.4444444444444444,
              "#bd3786"
             ],
             [
              0.5555555555555556,
              "#d8576b"
             ],
             [
              0.6666666666666666,
              "#ed7953"
             ],
             [
              0.7777777777777778,
              "#fb9f3a"
             ],
             [
              0.8888888888888888,
              "#fdca26"
             ],
             [
              1,
              "#f0f921"
             ]
            ],
            "type": "histogram2dcontour"
           }
          ],
          "mesh3d": [
           {
            "colorbar": {
             "outlinewidth": 0,
             "ticks": ""
            },
            "type": "mesh3d"
           }
          ],
          "parcoords": [
           {
            "line": {
             "colorbar": {
              "outlinewidth": 0,
              "ticks": ""
             }
            },
            "type": "parcoords"
           }
          ],
          "pie": [
           {
            "automargin": true,
            "type": "pie"
           }
          ],
          "scatter": [
           {
            "fillpattern": {
             "fillmode": "overlay",
             "size": 10,
             "solidity": 0.2
            },
            "type": "scatter"
           }
          ],
          "scatter3d": [
           {
            "line": {
             "colorbar": {
              "outlinewidth": 0,
              "ticks": ""
             }
            },
            "marker": {
             "colorbar": {
              "outlinewidth": 0,
              "ticks": ""
             }
            },
            "type": "scatter3d"
           }
          ],
          "scattercarpet": [
           {
            "marker": {
             "colorbar": {
              "outlinewidth": 0,
              "ticks": ""
             }
            },
            "type": "scattercarpet"
           }
          ],
          "scattergeo": [
           {
            "marker": {
             "colorbar": {
              "outlinewidth": 0,
              "ticks": ""
             }
            },
            "type": "scattergeo"
           }
          ],
          "scattergl": [
           {
            "marker": {
             "colorbar": {
              "outlinewidth": 0,
              "ticks": ""
             }
            },
            "type": "scattergl"
           }
          ],
          "scattermap": [
           {
            "marker": {
             "colorbar": {
              "outlinewidth": 0,
              "ticks": ""
             }
            },
            "type": "scattermap"
           }
          ],
          "scattermapbox": [
           {
            "marker": {
             "colorbar": {
              "outlinewidth": 0,
              "ticks": ""
             }
            },
            "type": "scattermapbox"
           }
          ],
          "scatterpolar": [
           {
            "marker": {
             "colorbar": {
              "outlinewidth": 0,
              "ticks": ""
             }
            },
            "type": "scatterpolar"
           }
          ],
          "scatterpolargl": [
           {
            "marker": {
             "colorbar": {
              "outlinewidth": 0,
              "ticks": ""
             }
            },
            "type": "scatterpolargl"
           }
          ],
          "scatterternary": [
           {
            "marker": {
             "colorbar": {
              "outlinewidth": 0,
              "ticks": ""
             }
            },
            "type": "scatterternary"
           }
          ],
          "surface": [
           {
            "colorbar": {
             "outlinewidth": 0,
             "ticks": ""
            },
            "colorscale": [
             [
              0,
              "#0d0887"
             ],
             [
              0.1111111111111111,
              "#46039f"
             ],
             [
              0.2222222222222222,
              "#7201a8"
             ],
             [
              0.3333333333333333,
              "#9c179e"
             ],
             [
              0.4444444444444444,
              "#bd3786"
             ],
             [
              0.5555555555555556,
              "#d8576b"
             ],
             [
              0.6666666666666666,
              "#ed7953"
             ],
             [
              0.7777777777777778,
              "#fb9f3a"
             ],
             [
              0.8888888888888888,
              "#fdca26"
             ],
             [
              1,
              "#f0f921"
             ]
            ],
            "type": "surface"
           }
          ],
          "table": [
           {
            "cells": {
             "fill": {
              "color": "#EBF0F8"
             },
             "line": {
              "color": "white"
             }
            },
            "header": {
             "fill": {
              "color": "#C8D4E3"
             },
             "line": {
              "color": "white"
             }
            },
            "type": "table"
           }
          ]
         },
         "layout": {
          "annotationdefaults": {
           "arrowcolor": "#2a3f5f",
           "arrowhead": 0,
           "arrowwidth": 1
          },
          "autotypenumbers": "strict",
          "coloraxis": {
           "colorbar": {
            "outlinewidth": 0,
            "ticks": ""
           }
          },
          "colorscale": {
           "diverging": [
            [
             0,
             "#8e0152"
            ],
            [
             0.1,
             "#c51b7d"
            ],
            [
             0.2,
             "#de77ae"
            ],
            [
             0.3,
             "#f1b6da"
            ],
            [
             0.4,
             "#fde0ef"
            ],
            [
             0.5,
             "#f7f7f7"
            ],
            [
             0.6,
             "#e6f5d0"
            ],
            [
             0.7,
             "#b8e186"
            ],
            [
             0.8,
             "#7fbc41"
            ],
            [
             0.9,
             "#4d9221"
            ],
            [
             1,
             "#276419"
            ]
           ],
           "sequential": [
            [
             0,
             "#0d0887"
            ],
            [
             0.1111111111111111,
             "#46039f"
            ],
            [
             0.2222222222222222,
             "#7201a8"
            ],
            [
             0.3333333333333333,
             "#9c179e"
            ],
            [
             0.4444444444444444,
             "#bd3786"
            ],
            [
             0.5555555555555556,
             "#d8576b"
            ],
            [
             0.6666666666666666,
             "#ed7953"
            ],
            [
             0.7777777777777778,
             "#fb9f3a"
            ],
            [
             0.8888888888888888,
             "#fdca26"
            ],
            [
             1,
             "#f0f921"
            ]
           ],
           "sequentialminus": [
            [
             0,
             "#0d0887"
            ],
            [
             0.1111111111111111,
             "#46039f"
            ],
            [
             0.2222222222222222,
             "#7201a8"
            ],
            [
             0.3333333333333333,
             "#9c179e"
            ],
            [
             0.4444444444444444,
             "#bd3786"
            ],
            [
             0.5555555555555556,
             "#d8576b"
            ],
            [
             0.6666666666666666,
             "#ed7953"
            ],
            [
             0.7777777777777778,
             "#fb9f3a"
            ],
            [
             0.8888888888888888,
             "#fdca26"
            ],
            [
             1,
             "#f0f921"
            ]
           ]
          },
          "colorway": [
           "#636efa",
           "#EF553B",
           "#00cc96",
           "#ab63fa",
           "#FFA15A",
           "#19d3f3",
           "#FF6692",
           "#B6E880",
           "#FF97FF",
           "#FECB52"
          ],
          "font": {
           "color": "#2a3f5f"
          },
          "geo": {
           "bgcolor": "white",
           "lakecolor": "white",
           "landcolor": "#E5ECF6",
           "showlakes": true,
           "showland": true,
           "subunitcolor": "white"
          },
          "hoverlabel": {
           "align": "left"
          },
          "hovermode": "closest",
          "mapbox": {
           "style": "light"
          },
          "paper_bgcolor": "white",
          "plot_bgcolor": "#E5ECF6",
          "polar": {
           "angularaxis": {
            "gridcolor": "white",
            "linecolor": "white",
            "ticks": ""
           },
           "bgcolor": "#E5ECF6",
           "radialaxis": {
            "gridcolor": "white",
            "linecolor": "white",
            "ticks": ""
           }
          },
          "scene": {
           "xaxis": {
            "backgroundcolor": "#E5ECF6",
            "gridcolor": "white",
            "gridwidth": 2,
            "linecolor": "white",
            "showbackground": true,
            "ticks": "",
            "zerolinecolor": "white"
           },
           "yaxis": {
            "backgroundcolor": "#E5ECF6",
            "gridcolor": "white",
            "gridwidth": 2,
            "linecolor": "white",
            "showbackground": true,
            "ticks": "",
            "zerolinecolor": "white"
           },
           "zaxis": {
            "backgroundcolor": "#E5ECF6",
            "gridcolor": "white",
            "gridwidth": 2,
            "linecolor": "white",
            "showbackground": true,
            "ticks": "",
            "zerolinecolor": "white"
           }
          },
          "shapedefaults": {
           "line": {
            "color": "#2a3f5f"
           }
          },
          "ternary": {
           "aaxis": {
            "gridcolor": "white",
            "linecolor": "white",
            "ticks": ""
           },
           "baxis": {
            "gridcolor": "white",
            "linecolor": "white",
            "ticks": ""
           },
           "bgcolor": "#E5ECF6",
           "caxis": {
            "gridcolor": "white",
            "linecolor": "white",
            "ticks": ""
           }
          },
          "title": {
           "x": 0.05
          },
          "xaxis": {
           "automargin": true,
           "gridcolor": "white",
           "linecolor": "white",
           "ticks": "",
           "title": {
            "standoff": 15
           },
           "zerolinecolor": "white",
           "zerolinewidth": 2
          },
          "yaxis": {
           "automargin": true,
           "gridcolor": "white",
           "linecolor": "white",
           "ticks": "",
           "title": {
            "standoff": 15
           },
           "zerolinecolor": "white",
           "zerolinewidth": 2
          }
         }
        },
        "xaxis": {
         "anchor": "y",
         "domain": [
          0,
          1
         ],
         "title": {
          "text": "x"
         }
        },
        "yaxis": {
         "anchor": "x",
         "domain": [
          0,
          1
         ],
         "title": {
          "text": "y"
         }
        }
       }
      },
      "text/html": [
       "<div>            <script src=\"https://cdnjs.cloudflare.com/ajax/libs/mathjax/2.7.5/MathJax.js?config=TeX-AMS-MML_SVG\"></script><script type=\"text/javascript\">if (window.MathJax && window.MathJax.Hub && window.MathJax.Hub.Config) {window.MathJax.Hub.Config({SVG: {font: \"STIX-Web\"}});}</script>                <script type=\"text/javascript\">window.PlotlyConfig = {MathJaxConfig: 'local'};</script>\n",
       "        <script charset=\"utf-8\" src=\"https://cdn.plot.ly/plotly-3.0.0.min.js\"></script>                <div id=\"bfe9735b-da93-4a49-a8ec-ebeebf93295f\" class=\"plotly-graph-div\" style=\"height:525px; width:100%;\"></div>            <script type=\"text/javascript\">                window.PLOTLYENV=window.PLOTLYENV || {};                                if (document.getElementById(\"bfe9735b-da93-4a49-a8ec-ebeebf93295f\")) {                    Plotly.newPlot(                        \"bfe9735b-da93-4a49-a8ec-ebeebf93295f\",                        [{\"hovertemplate\":\"x=%{x}\\u003cbr\\u003ey=%{y}\\u003cextra\\u003e\\u003c\\u002fextra\\u003e\",\"legendgroup\":\"\",\"marker\":{\"color\":\"#636efa\",\"pattern\":{\"shape\":\"\"}},\"name\":\"\",\"orientation\":\"v\",\"showlegend\":false,\"textposition\":\"auto\",\"x\":[\"Physics\",\"Electricity\",\"Human Necessities\",\"Operations & Transport\",\"Chemistry & Metallurgy\",\"Mech. Eng & Lighting\",\"Fixed Constructions\",\"Textiles & Paper\"],\"xaxis\":\"x\",\"y\":{\"dtype\":\"i4\",\"bdata\":\"GeQXADMcFwA8WwoAZcYJAKiPBgD6TAUAsNsBAGZrAAA=\"},\"yaxis\":\"y\",\"type\":\"bar\"}],                        {\"template\":{\"data\":{\"histogram2dcontour\":[{\"type\":\"histogram2dcontour\",\"colorbar\":{\"outlinewidth\":0,\"ticks\":\"\"},\"colorscale\":[[0.0,\"#0d0887\"],[0.1111111111111111,\"#46039f\"],[0.2222222222222222,\"#7201a8\"],[0.3333333333333333,\"#9c179e\"],[0.4444444444444444,\"#bd3786\"],[0.5555555555555556,\"#d8576b\"],[0.6666666666666666,\"#ed7953\"],[0.7777777777777778,\"#fb9f3a\"],[0.8888888888888888,\"#fdca26\"],[1.0,\"#f0f921\"]]}],\"choropleth\":[{\"type\":\"choropleth\",\"colorbar\":{\"outlinewidth\":0,\"ticks\":\"\"}}],\"histogram2d\":[{\"type\":\"histogram2d\",\"colorbar\":{\"outlinewidth\":0,\"ticks\":\"\"},\"colorscale\":[[0.0,\"#0d0887\"],[0.1111111111111111,\"#46039f\"],[0.2222222222222222,\"#7201a8\"],[0.3333333333333333,\"#9c179e\"],[0.4444444444444444,\"#bd3786\"],[0.5555555555555556,\"#d8576b\"],[0.6666666666666666,\"#ed7953\"],[0.7777777777777778,\"#fb9f3a\"],[0.8888888888888888,\"#fdca26\"],[1.0,\"#f0f921\"]]}],\"heatmap\":[{\"type\":\"heatmap\",\"colorbar\":{\"outlinewidth\":0,\"ticks\":\"\"},\"colorscale\":[[0.0,\"#0d0887\"],[0.1111111111111111,\"#46039f\"],[0.2222222222222222,\"#7201a8\"],[0.3333333333333333,\"#9c179e\"],[0.4444444444444444,\"#bd3786\"],[0.5555555555555556,\"#d8576b\"],[0.6666666666666666,\"#ed7953\"],[0.7777777777777778,\"#fb9f3a\"],[0.8888888888888888,\"#fdca26\"],[1.0,\"#f0f921\"]]}],\"contourcarpet\":[{\"type\":\"contourcarpet\",\"colorbar\":{\"outlinewidth\":0,\"ticks\":\"\"}}],\"contour\":[{\"type\":\"contour\",\"colorbar\":{\"outlinewidth\":0,\"ticks\":\"\"},\"colorscale\":[[0.0,\"#0d0887\"],[0.1111111111111111,\"#46039f\"],[0.2222222222222222,\"#7201a8\"],[0.3333333333333333,\"#9c179e\"],[0.4444444444444444,\"#bd3786\"],[0.5555555555555556,\"#d8576b\"],[0.6666666666666666,\"#ed7953\"],[0.7777777777777778,\"#fb9f3a\"],[0.8888888888888888,\"#fdca26\"],[1.0,\"#f0f921\"]]}],\"surface\":[{\"type\":\"surface\",\"colorbar\":{\"outlinewidth\":0,\"ticks\":\"\"},\"colorscale\":[[0.0,\"#0d0887\"],[0.1111111111111111,\"#46039f\"],[0.2222222222222222,\"#7201a8\"],[0.3333333333333333,\"#9c179e\"],[0.4444444444444444,\"#bd3786\"],[0.5555555555555556,\"#d8576b\"],[0.6666666666666666,\"#ed7953\"],[0.7777777777777778,\"#fb9f3a\"],[0.8888888888888888,\"#fdca26\"],[1.0,\"#f0f921\"]]}],\"mesh3d\":[{\"type\":\"mesh3d\",\"colorbar\":{\"outlinewidth\":0,\"ticks\":\"\"}}],\"scatter\":[{\"fillpattern\":{\"fillmode\":\"overlay\",\"size\":10,\"solidity\":0.2},\"type\":\"scatter\"}],\"parcoords\":[{\"type\":\"parcoords\",\"line\":{\"colorbar\":{\"outlinewidth\":0,\"ticks\":\"\"}}}],\"scatterpolargl\":[{\"type\":\"scatterpolargl\",\"marker\":{\"colorbar\":{\"outlinewidth\":0,\"ticks\":\"\"}}}],\"bar\":[{\"error_x\":{\"color\":\"#2a3f5f\"},\"error_y\":{\"color\":\"#2a3f5f\"},\"marker\":{\"line\":{\"color\":\"#E5ECF6\",\"width\":0.5},\"pattern\":{\"fillmode\":\"overlay\",\"size\":10,\"solidity\":0.2}},\"type\":\"bar\"}],\"scattergeo\":[{\"type\":\"scattergeo\",\"marker\":{\"colorbar\":{\"outlinewidth\":0,\"ticks\":\"\"}}}],\"scatterpolar\":[{\"type\":\"scatterpolar\",\"marker\":{\"colorbar\":{\"outlinewidth\":0,\"ticks\":\"\"}}}],\"histogram\":[{\"marker\":{\"pattern\":{\"fillmode\":\"overlay\",\"size\":10,\"solidity\":0.2}},\"type\":\"histogram\"}],\"scattergl\":[{\"type\":\"scattergl\",\"marker\":{\"colorbar\":{\"outlinewidth\":0,\"ticks\":\"\"}}}],\"scatter3d\":[{\"type\":\"scatter3d\",\"line\":{\"colorbar\":{\"outlinewidth\":0,\"ticks\":\"\"}},\"marker\":{\"colorbar\":{\"outlinewidth\":0,\"ticks\":\"\"}}}],\"scattermap\":[{\"type\":\"scattermap\",\"marker\":{\"colorbar\":{\"outlinewidth\":0,\"ticks\":\"\"}}}],\"scattermapbox\":[{\"type\":\"scattermapbox\",\"marker\":{\"colorbar\":{\"outlinewidth\":0,\"ticks\":\"\"}}}],\"scatterternary\":[{\"type\":\"scatterternary\",\"marker\":{\"colorbar\":{\"outlinewidth\":0,\"ticks\":\"\"}}}],\"scattercarpet\":[{\"type\":\"scattercarpet\",\"marker\":{\"colorbar\":{\"outlinewidth\":0,\"ticks\":\"\"}}}],\"carpet\":[{\"aaxis\":{\"endlinecolor\":\"#2a3f5f\",\"gridcolor\":\"white\",\"linecolor\":\"white\",\"minorgridcolor\":\"white\",\"startlinecolor\":\"#2a3f5f\"},\"baxis\":{\"endlinecolor\":\"#2a3f5f\",\"gridcolor\":\"white\",\"linecolor\":\"white\",\"minorgridcolor\":\"white\",\"startlinecolor\":\"#2a3f5f\"},\"type\":\"carpet\"}],\"table\":[{\"cells\":{\"fill\":{\"color\":\"#EBF0F8\"},\"line\":{\"color\":\"white\"}},\"header\":{\"fill\":{\"color\":\"#C8D4E3\"},\"line\":{\"color\":\"white\"}},\"type\":\"table\"}],\"barpolar\":[{\"marker\":{\"line\":{\"color\":\"#E5ECF6\",\"width\":0.5},\"pattern\":{\"fillmode\":\"overlay\",\"size\":10,\"solidity\":0.2}},\"type\":\"barpolar\"}],\"pie\":[{\"automargin\":true,\"type\":\"pie\"}]},\"layout\":{\"autotypenumbers\":\"strict\",\"colorway\":[\"#636efa\",\"#EF553B\",\"#00cc96\",\"#ab63fa\",\"#FFA15A\",\"#19d3f3\",\"#FF6692\",\"#B6E880\",\"#FF97FF\",\"#FECB52\"],\"font\":{\"color\":\"#2a3f5f\"},\"hovermode\":\"closest\",\"hoverlabel\":{\"align\":\"left\"},\"paper_bgcolor\":\"white\",\"plot_bgcolor\":\"#E5ECF6\",\"polar\":{\"bgcolor\":\"#E5ECF6\",\"angularaxis\":{\"gridcolor\":\"white\",\"linecolor\":\"white\",\"ticks\":\"\"},\"radialaxis\":{\"gridcolor\":\"white\",\"linecolor\":\"white\",\"ticks\":\"\"}},\"ternary\":{\"bgcolor\":\"#E5ECF6\",\"aaxis\":{\"gridcolor\":\"white\",\"linecolor\":\"white\",\"ticks\":\"\"},\"baxis\":{\"gridcolor\":\"white\",\"linecolor\":\"white\",\"ticks\":\"\"},\"caxis\":{\"gridcolor\":\"white\",\"linecolor\":\"white\",\"ticks\":\"\"}},\"coloraxis\":{\"colorbar\":{\"outlinewidth\":0,\"ticks\":\"\"}},\"colorscale\":{\"sequential\":[[0.0,\"#0d0887\"],[0.1111111111111111,\"#46039f\"],[0.2222222222222222,\"#7201a8\"],[0.3333333333333333,\"#9c179e\"],[0.4444444444444444,\"#bd3786\"],[0.5555555555555556,\"#d8576b\"],[0.6666666666666666,\"#ed7953\"],[0.7777777777777778,\"#fb9f3a\"],[0.8888888888888888,\"#fdca26\"],[1.0,\"#f0f921\"]],\"sequentialminus\":[[0.0,\"#0d0887\"],[0.1111111111111111,\"#46039f\"],[0.2222222222222222,\"#7201a8\"],[0.3333333333333333,\"#9c179e\"],[0.4444444444444444,\"#bd3786\"],[0.5555555555555556,\"#d8576b\"],[0.6666666666666666,\"#ed7953\"],[0.7777777777777778,\"#fb9f3a\"],[0.8888888888888888,\"#fdca26\"],[1.0,\"#f0f921\"]],\"diverging\":[[0,\"#8e0152\"],[0.1,\"#c51b7d\"],[0.2,\"#de77ae\"],[0.3,\"#f1b6da\"],[0.4,\"#fde0ef\"],[0.5,\"#f7f7f7\"],[0.6,\"#e6f5d0\"],[0.7,\"#b8e186\"],[0.8,\"#7fbc41\"],[0.9,\"#4d9221\"],[1,\"#276419\"]]},\"xaxis\":{\"gridcolor\":\"white\",\"linecolor\":\"white\",\"ticks\":\"\",\"title\":{\"standoff\":15},\"zerolinecolor\":\"white\",\"automargin\":true,\"zerolinewidth\":2},\"yaxis\":{\"gridcolor\":\"white\",\"linecolor\":\"white\",\"ticks\":\"\",\"title\":{\"standoff\":15},\"zerolinecolor\":\"white\",\"automargin\":true,\"zerolinewidth\":2},\"scene\":{\"xaxis\":{\"backgroundcolor\":\"#E5ECF6\",\"gridcolor\":\"white\",\"linecolor\":\"white\",\"showbackground\":true,\"ticks\":\"\",\"zerolinecolor\":\"white\",\"gridwidth\":2},\"yaxis\":{\"backgroundcolor\":\"#E5ECF6\",\"gridcolor\":\"white\",\"linecolor\":\"white\",\"showbackground\":true,\"ticks\":\"\",\"zerolinecolor\":\"white\",\"gridwidth\":2},\"zaxis\":{\"backgroundcolor\":\"#E5ECF6\",\"gridcolor\":\"white\",\"linecolor\":\"white\",\"showbackground\":true,\"ticks\":\"\",\"zerolinecolor\":\"white\",\"gridwidth\":2}},\"shapedefaults\":{\"line\":{\"color\":\"#2a3f5f\"}},\"annotationdefaults\":{\"arrowcolor\":\"#2a3f5f\",\"arrowhead\":0,\"arrowwidth\":1},\"geo\":{\"bgcolor\":\"white\",\"landcolor\":\"#E5ECF6\",\"subunitcolor\":\"white\",\"showland\":true,\"showlakes\":true,\"lakecolor\":\"white\"},\"title\":{\"x\":0.05},\"mapbox\":{\"style\":\"light\"}}},\"xaxis\":{\"anchor\":\"y\",\"domain\":[0.0,1.0],\"title\":{\"text\":\"x\"}},\"yaxis\":{\"anchor\":\"x\",\"domain\":[0.0,1.0],\"title\":{\"text\":\"y\"}},\"legend\":{\"tracegroupgap\":0},\"margin\":{\"t\":60},\"barmode\":\"relative\"},                        {\"responsive\": true}                    ).then(function(){\n",
       "                            \n",
       "var gd = document.getElementById('bfe9735b-da93-4a49-a8ec-ebeebf93295f');\n",
       "var x = new MutationObserver(function (mutations, observer) {{\n",
       "        var display = window.getComputedStyle(gd).display;\n",
       "        if (!display || display === 'none') {{\n",
       "            console.log([gd, 'removed!']);\n",
       "            Plotly.purge(gd);\n",
       "            observer.disconnect();\n",
       "        }}\n",
       "}});\n",
       "\n",
       "// Listen for the removal of the full notebook cells\n",
       "var notebookContainer = gd.closest('#notebook-container');\n",
       "if (notebookContainer) {{\n",
       "    x.observe(notebookContainer, {childList: true});\n",
       "}}\n",
       "\n",
       "// Listen for the clearing of the current output cell\n",
       "var outputEl = gd.closest('.output');\n",
       "if (outputEl) {{\n",
       "    x.observe(outputEl, {childList: true});\n",
       "}}\n",
       "\n",
       "                        })                };            </script>        </div>"
      ]
     },
     "metadata": {},
     "output_type": "display_data"
    }
   ],
   "source": [
    "fig = px.bar(x=['Physics',\n",
    " 'Electricity',\n",
    " 'Human Necessities',\n",
    " 'Operations & Transport',\n",
    " 'Chemistry & Metallurgy',\n",
    " 'Mech. Eng & Lighting',\n",
    " 'Fixed Constructions',\n",
    " 'Textiles & Paper'], y=[1565721, 1514547, 678716, 640613, 429992, 347386, 121776, 27494])\n",
    "fig.show()"
   ]
  },
  {
   "cell_type": "code",
   "execution_count": null,
   "metadata": {},
   "outputs": [],
   "source": []
  }
 ],
 "metadata": {
  "kernelspec": {
   "display_name": "Python 3.9.6 64-bit",
   "language": "python",
   "name": "python3"
  },
  "language_info": {
   "codemirror_mode": {
    "name": "ipython",
    "version": 3
   },
   "file_extension": ".py",
   "mimetype": "text/x-python",
   "name": "python",
   "nbconvert_exporter": "python",
   "pygments_lexer": "ipython3",
   "version": "3.9.6"
  },
  "orig_nbformat": 4,
  "vscode": {
   "interpreter": {
    "hash": "31f2aee4e71d21fbe5cf8b01ff0e069b9275f58929596ceb00d14d90e3e16cd6"
   }
  }
 },
 "nbformat": 4,
 "nbformat_minor": 2
}
